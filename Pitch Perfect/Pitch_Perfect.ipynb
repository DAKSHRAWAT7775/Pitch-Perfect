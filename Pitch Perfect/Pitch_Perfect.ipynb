{
 "cells": [
  {
   "cell_type": "code",
   "execution_count": 1,
   "id": "4749ca55",
   "metadata": {
    "id": "4749ca55"
   },
   "outputs": [],
   "source": [
    "import pandas as pd\n",
    "import numpy as np\n",
    "import scipy.stats as stats\n",
    "import matplotlib.pyplot as plt\n",
    "import seaborn as sns\n",
    "from sklearn.model_selection import train_test_split\n",
    "from sklearn.metrics import mean_squared_error\n",
    "from sklearn.metrics import accuracy_score, confusion_matrix,r2_score\n",
    "from sklearn.svm import SVC\n",
    "from sklearn.preprocessing import LabelEncoder, OneHotEncoder\n",
    "from sklearn.compose import ColumnTransformer\n",
    "from sklearn.model_selection import train_test_split\n",
    "from joblib import dump\n",
    "\n",
    "odi_df_both_innings=pd.read_csv(\"ODI_Match_Totals.csv\")\n",
    "odi_df=odi_df_both_innings[odi_df_both_innings['Inns']==1]"
   ]
  },
  {
   "cell_type": "code",
   "execution_count": 2,
   "id": "60719a69",
   "metadata": {
    "colab": {
     "base_uri": "https://localhost:8080/",
     "height": 206
    },
    "id": "60719a69",
    "outputId": "7f001cdc-9cc6-4c40-a71c-484834aa09be"
   },
   "outputs": [
    {
     "data": {
      "text/html": [
       "<div>\n",
       "<style scoped>\n",
       "    .dataframe tbody tr th:only-of-type {\n",
       "        vertical-align: middle;\n",
       "    }\n",
       "\n",
       "    .dataframe tbody tr th {\n",
       "        vertical-align: top;\n",
       "    }\n",
       "\n",
       "    .dataframe thead th {\n",
       "        text-align: right;\n",
       "    }\n",
       "</style>\n",
       "<table border=\"1\" class=\"dataframe\">\n",
       "  <thead>\n",
       "    <tr style=\"text-align: right;\">\n",
       "      <th></th>\n",
       "      <th>Unnamed: 0</th>\n",
       "      <th>Score</th>\n",
       "      <th>Overs</th>\n",
       "      <th>RPO</th>\n",
       "      <th>Target</th>\n",
       "      <th>Inns</th>\n",
       "      <th>Result</th>\n",
       "      <th>Opposition</th>\n",
       "      <th>Ground</th>\n",
       "      <th>Start Date</th>\n",
       "      <th>Match_ID</th>\n",
       "      <th>Country</th>\n",
       "      <th>Country_ID</th>\n",
       "    </tr>\n",
       "  </thead>\n",
       "  <tbody>\n",
       "    <tr>\n",
       "      <th>0</th>\n",
       "      <td>412</td>\n",
       "      <td>250</td>\n",
       "      <td>48.3</td>\n",
       "      <td>5.15</td>\n",
       "      <td>NaN</td>\n",
       "      <td>1</td>\n",
       "      <td>won</td>\n",
       "      <td>v India</td>\n",
       "      <td>Kolkata</td>\n",
       "      <td>3 Jan 2013</td>\n",
       "      <td>ODI # 3315</td>\n",
       "      <td>Pakistan</td>\n",
       "      <td>7</td>\n",
       "    </tr>\n",
       "    <tr>\n",
       "      <th>3</th>\n",
       "      <td>681</td>\n",
       "      <td>167</td>\n",
       "      <td>43.4</td>\n",
       "      <td>3.82</td>\n",
       "      <td>NaN</td>\n",
       "      <td>1</td>\n",
       "      <td>won</td>\n",
       "      <td>v Pakistan</td>\n",
       "      <td>Delhi</td>\n",
       "      <td>6 Jan 2013</td>\n",
       "      <td>ODI # 3316</td>\n",
       "      <td>India</td>\n",
       "      <td>6</td>\n",
       "    </tr>\n",
       "    <tr>\n",
       "      <th>5</th>\n",
       "      <td>1076</td>\n",
       "      <td>305/5</td>\n",
       "      <td>50.0</td>\n",
       "      <td>6.10</td>\n",
       "      <td>NaN</td>\n",
       "      <td>1</td>\n",
       "      <td>won</td>\n",
       "      <td>v Sri Lanka</td>\n",
       "      <td>Melbourne</td>\n",
       "      <td>11 Jan 2013</td>\n",
       "      <td>ODI # 3317</td>\n",
       "      <td>Australia</td>\n",
       "      <td>2</td>\n",
       "    </tr>\n",
       "    <tr>\n",
       "      <th>7</th>\n",
       "      <td>836</td>\n",
       "      <td>325/4</td>\n",
       "      <td>50.0</td>\n",
       "      <td>6.50</td>\n",
       "      <td>NaN</td>\n",
       "      <td>1</td>\n",
       "      <td>won</td>\n",
       "      <td>v India</td>\n",
       "      <td>Rajkot</td>\n",
       "      <td>11 Jan 2013</td>\n",
       "      <td>ODI # 3318</td>\n",
       "      <td>England</td>\n",
       "      <td>1</td>\n",
       "    </tr>\n",
       "    <tr>\n",
       "      <th>9</th>\n",
       "      <td>1077</td>\n",
       "      <td>170</td>\n",
       "      <td>46.5</td>\n",
       "      <td>3.62</td>\n",
       "      <td>NaN</td>\n",
       "      <td>1</td>\n",
       "      <td>lost</td>\n",
       "      <td>v Sri Lanka</td>\n",
       "      <td>Adelaide</td>\n",
       "      <td>13 Jan 2013</td>\n",
       "      <td>ODI # 3319</td>\n",
       "      <td>Australia</td>\n",
       "      <td>2</td>\n",
       "    </tr>\n",
       "  </tbody>\n",
       "</table>\n",
       "</div>"
      ],
      "text/plain": [
       "   Unnamed: 0  Score  Overs   RPO  Target  Inns Result   Opposition  \\\n",
       "0         412    250   48.3  5.15     NaN     1    won      v India   \n",
       "3         681    167   43.4  3.82     NaN     1    won   v Pakistan   \n",
       "5        1076  305/5   50.0  6.10     NaN     1    won  v Sri Lanka   \n",
       "7         836  325/4   50.0  6.50     NaN     1    won      v India   \n",
       "9        1077    170   46.5  3.62     NaN     1   lost  v Sri Lanka   \n",
       "\n",
       "      Ground   Start Date    Match_ID    Country  Country_ID  \n",
       "0    Kolkata   3 Jan 2013  ODI # 3315   Pakistan           7  \n",
       "3      Delhi   6 Jan 2013  ODI # 3316      India           6  \n",
       "5  Melbourne  11 Jan 2013  ODI # 3317  Australia           2  \n",
       "7     Rajkot  11 Jan 2013  ODI # 3318    England           1  \n",
       "9   Adelaide  13 Jan 2013  ODI # 3319  Australia           2  "
      ]
     },
     "execution_count": 2,
     "metadata": {},
     "output_type": "execute_result"
    }
   ],
   "source": [
    "odi_df.head()"
   ]
  },
  {
   "cell_type": "code",
   "execution_count": 3,
   "id": "13256db1",
   "metadata": {
    "colab": {
     "base_uri": "https://localhost:8080/",
     "height": 300
    },
    "id": "13256db1",
    "outputId": "ba80b2af-c354-4494-855b-fa6139fafdbb"
   },
   "outputs": [
    {
     "data": {
      "text/html": [
       "<div>\n",
       "<style scoped>\n",
       "    .dataframe tbody tr th:only-of-type {\n",
       "        vertical-align: middle;\n",
       "    }\n",
       "\n",
       "    .dataframe tbody tr th {\n",
       "        vertical-align: top;\n",
       "    }\n",
       "\n",
       "    .dataframe thead th {\n",
       "        text-align: right;\n",
       "    }\n",
       "</style>\n",
       "<table border=\"1\" class=\"dataframe\">\n",
       "  <thead>\n",
       "    <tr style=\"text-align: right;\">\n",
       "      <th></th>\n",
       "      <th>Unnamed: 0</th>\n",
       "      <th>Overs</th>\n",
       "      <th>Target</th>\n",
       "      <th>Inns</th>\n",
       "      <th>Country_ID</th>\n",
       "    </tr>\n",
       "  </thead>\n",
       "  <tbody>\n",
       "    <tr>\n",
       "      <th>count</th>\n",
       "      <td>656.000000</td>\n",
       "      <td>656.000000</td>\n",
       "      <td>0.0</td>\n",
       "      <td>656.0</td>\n",
       "      <td>656.000000</td>\n",
       "    </tr>\n",
       "    <tr>\n",
       "      <th>mean</th>\n",
       "      <td>655.582317</td>\n",
       "      <td>47.161585</td>\n",
       "      <td>NaN</td>\n",
       "      <td>1.0</td>\n",
       "      <td>8.772866</td>\n",
       "    </tr>\n",
       "    <tr>\n",
       "      <th>std</th>\n",
       "      <td>377.308317</td>\n",
       "      <td>6.980209</td>\n",
       "      <td>NaN</td>\n",
       "      <td>0.0</td>\n",
       "      <td>10.593182</td>\n",
       "    </tr>\n",
       "    <tr>\n",
       "      <th>min</th>\n",
       "      <td>1.000000</td>\n",
       "      <td>1.000000</td>\n",
       "      <td>NaN</td>\n",
       "      <td>1.0</td>\n",
       "      <td>1.000000</td>\n",
       "    </tr>\n",
       "    <tr>\n",
       "      <th>25%</th>\n",
       "      <td>323.750000</td>\n",
       "      <td>49.000000</td>\n",
       "      <td>NaN</td>\n",
       "      <td>1.0</td>\n",
       "      <td>3.000000</td>\n",
       "    </tr>\n",
       "    <tr>\n",
       "      <th>50%</th>\n",
       "      <td>645.500000</td>\n",
       "      <td>50.000000</td>\n",
       "      <td>NaN</td>\n",
       "      <td>1.0</td>\n",
       "      <td>5.000000</td>\n",
       "    </tr>\n",
       "    <tr>\n",
       "      <th>75%</th>\n",
       "      <td>995.250000</td>\n",
       "      <td>50.000000</td>\n",
       "      <td>NaN</td>\n",
       "      <td>1.0</td>\n",
       "      <td>8.000000</td>\n",
       "    </tr>\n",
       "    <tr>\n",
       "      <th>max</th>\n",
       "      <td>1294.000000</td>\n",
       "      <td>50.000000</td>\n",
       "      <td>NaN</td>\n",
       "      <td>1.0</td>\n",
       "      <td>40.000000</td>\n",
       "    </tr>\n",
       "  </tbody>\n",
       "</table>\n",
       "</div>"
      ],
      "text/plain": [
       "        Unnamed: 0       Overs  Target   Inns  Country_ID\n",
       "count   656.000000  656.000000     0.0  656.0  656.000000\n",
       "mean    655.582317   47.161585     NaN    1.0    8.772866\n",
       "std     377.308317    6.980209     NaN    0.0   10.593182\n",
       "min       1.000000    1.000000     NaN    1.0    1.000000\n",
       "25%     323.750000   49.000000     NaN    1.0    3.000000\n",
       "50%     645.500000   50.000000     NaN    1.0    5.000000\n",
       "75%     995.250000   50.000000     NaN    1.0    8.000000\n",
       "max    1294.000000   50.000000     NaN    1.0   40.000000"
      ]
     },
     "execution_count": 3,
     "metadata": {},
     "output_type": "execute_result"
    }
   ],
   "source": [
    "odi_df.describe()"
   ]
  },
  {
   "cell_type": "code",
   "execution_count": 4,
   "id": "49483d46",
   "metadata": {
    "colab": {
     "base_uri": "https://localhost:8080/"
    },
    "id": "49483d46",
    "outputId": "f247feb9-a640-4ab1-8b29-8f6277186a02"
   },
   "outputs": [
    {
     "name": "stdout",
     "output_type": "stream",
     "text": [
      "<class 'pandas.core.frame.DataFrame'>\n",
      "Int64Index: 656 entries, 0 to 1295\n",
      "Data columns (total 13 columns):\n",
      " #   Column      Non-Null Count  Dtype  \n",
      "---  ------      --------------  -----  \n",
      " 0   Unnamed: 0  656 non-null    int64  \n",
      " 1   Score       656 non-null    object \n",
      " 2   Overs       656 non-null    float64\n",
      " 3   RPO         656 non-null    object \n",
      " 4   Target      0 non-null      float64\n",
      " 5   Inns        656 non-null    int64  \n",
      " 6   Result      656 non-null    object \n",
      " 7   Opposition  656 non-null    object \n",
      " 8   Ground      656 non-null    object \n",
      " 9   Start Date  656 non-null    object \n",
      " 10  Match_ID    656 non-null    object \n",
      " 11  Country     656 non-null    object \n",
      " 12  Country_ID  656 non-null    int64  \n",
      "dtypes: float64(2), int64(3), object(8)\n",
      "memory usage: 71.8+ KB\n"
     ]
    }
   ],
   "source": [
    "odi_df.info()"
   ]
  },
  {
   "cell_type": "code",
   "execution_count": 5,
   "id": "78b26f26",
   "metadata": {
    "colab": {
     "base_uri": "https://localhost:8080/"
    },
    "id": "78b26f26",
    "outputId": "46b51474-857a-4a05-eee9-ca868f2733f8"
   },
   "outputs": [
    {
     "data": {
      "text/plain": [
       "Unnamed: 0    656\n",
       "Score         499\n",
       "Overs          99\n",
       "RPO           290\n",
       "Target          0\n",
       "Inns            1\n",
       "Result          5\n",
       "Opposition     16\n",
       "Ground         94\n",
       "Start Date    572\n",
       "Match_ID      656\n",
       "Country        10\n",
       "Country_ID     10\n",
       "dtype: int64"
      ]
     },
     "execution_count": 5,
     "metadata": {},
     "output_type": "execute_result"
    }
   ],
   "source": [
    "odi_df.nunique()"
   ]
  },
  {
   "cell_type": "code",
   "execution_count": 6,
   "id": "ea5c2eee",
   "metadata": {
    "colab": {
     "base_uri": "https://localhost:8080/"
    },
    "id": "ea5c2eee",
    "outputId": "9e5b87ce-14cf-4a67-92f9-c594a2581ce7"
   },
   "outputs": [
    {
     "data": {
      "text/plain": [
       "Unnamed: 0      int64\n",
       "Score          object\n",
       "Overs         float64\n",
       "RPO            object\n",
       "Target        float64\n",
       "Inns            int64\n",
       "Result         object\n",
       "Opposition     object\n",
       "Ground         object\n",
       "Start Date     object\n",
       "Match_ID       object\n",
       "Country        object\n",
       "Country_ID      int64\n",
       "dtype: object"
      ]
     },
     "execution_count": 6,
     "metadata": {},
     "output_type": "execute_result"
    }
   ],
   "source": [
    "odi_df.dtypes"
   ]
  },
  {
   "cell_type": "code",
   "execution_count": 7,
   "id": "064997c0",
   "metadata": {
    "colab": {
     "base_uri": "https://localhost:8080/"
    },
    "id": "064997c0",
    "outputId": "fe110870-2d8e-4907-b751-198f5ba35fd5"
   },
   "outputs": [
    {
     "data": {
      "text/plain": [
       "Index(['Unnamed: 0', 'Score', 'Overs', 'RPO', 'Target', 'Inns', 'Result',\n",
       "       'Opposition', 'Ground', 'Start Date', 'Match_ID', 'Country',\n",
       "       'Country_ID'],\n",
       "      dtype='object')"
      ]
     },
     "execution_count": 7,
     "metadata": {},
     "output_type": "execute_result"
    }
   ],
   "source": [
    "odi_df.columns"
   ]
  },
  {
   "cell_type": "code",
   "execution_count": 8,
   "id": "d7a052c6",
   "metadata": {
    "colab": {
     "base_uri": "https://localhost:8080/"
    },
    "id": "d7a052c6",
    "outputId": "0a1f5028-e7a4-4092-8423-1ca30b872395"
   },
   "outputs": [
    {
     "name": "stderr",
     "output_type": "stream",
     "text": [
      "C:\\Users\\parth\\AppData\\Local\\Temp\\ipykernel_2304\\318875144.py:1: SettingWithCopyWarning: \n",
      "A value is trying to be set on a copy of a slice from a DataFrame\n",
      "\n",
      "See the caveats in the documentation: https://pandas.pydata.org/pandas-docs/stable/user_guide/indexing.html#returning-a-view-versus-a-copy\n",
      "  odi_df['RPO'].replace('-','0',inplace=True)\n",
      "C:\\Users\\parth\\AppData\\Local\\Temp\\ipykernel_2304\\318875144.py:2: SettingWithCopyWarning: \n",
      "A value is trying to be set on a copy of a slice from a DataFrame\n",
      "\n",
      "See the caveats in the documentation: https://pandas.pydata.org/pandas-docs/stable/user_guide/indexing.html#returning-a-view-versus-a-copy\n",
      "  odi_df['Country'].replace('Newzealad','Newzealand',inplace=True)\n"
     ]
    }
   ],
   "source": [
    "odi_df['RPO'].replace('-','0',inplace=True)\n",
    "odi_df['Country'].replace('Newzealad','Newzealand',inplace=True)"
   ]
  },
  {
   "cell_type": "code",
   "execution_count": 9,
   "id": "d6f8e3aa",
   "metadata": {
    "colab": {
     "base_uri": "https://localhost:8080/",
     "height": 275
    },
    "id": "d6f8e3aa",
    "outputId": "8ed03ba0-bf7f-4d47-b896-a06f0c25dd88"
   },
   "outputs": [
    {
     "data": {
      "text/html": [
       "<div>\n",
       "<style scoped>\n",
       "    .dataframe tbody tr th:only-of-type {\n",
       "        vertical-align: middle;\n",
       "    }\n",
       "\n",
       "    .dataframe tbody tr th {\n",
       "        vertical-align: top;\n",
       "    }\n",
       "\n",
       "    .dataframe thead th {\n",
       "        text-align: right;\n",
       "    }\n",
       "</style>\n",
       "<table border=\"1\" class=\"dataframe\">\n",
       "  <thead>\n",
       "    <tr style=\"text-align: right;\">\n",
       "      <th></th>\n",
       "      <th>Unnamed: 0</th>\n",
       "      <th>Score</th>\n",
       "      <th>Overs</th>\n",
       "      <th>RPO</th>\n",
       "      <th>Target</th>\n",
       "      <th>Inns</th>\n",
       "      <th>Result</th>\n",
       "      <th>bowl_team</th>\n",
       "      <th>Ground</th>\n",
       "      <th>Start Date</th>\n",
       "      <th>Match_ID</th>\n",
       "      <th>bat_team</th>\n",
       "      <th>Country_ID</th>\n",
       "      <th>Runs</th>\n",
       "      <th>Wickets</th>\n",
       "      <th>total</th>\n",
       "    </tr>\n",
       "  </thead>\n",
       "  <tbody>\n",
       "    <tr>\n",
       "      <th>0</th>\n",
       "      <td>412</td>\n",
       "      <td>250/10</td>\n",
       "      <td>48.3</td>\n",
       "      <td>5.15</td>\n",
       "      <td>NaN</td>\n",
       "      <td>1</td>\n",
       "      <td>won</td>\n",
       "      <td>India</td>\n",
       "      <td>Kolkata</td>\n",
       "      <td>3 Jan 2013</td>\n",
       "      <td>3315</td>\n",
       "      <td>Pakistan</td>\n",
       "      <td>7</td>\n",
       "      <td>250</td>\n",
       "      <td>10</td>\n",
       "      <td>250</td>\n",
       "    </tr>\n",
       "    <tr>\n",
       "      <th>3</th>\n",
       "      <td>681</td>\n",
       "      <td>167/10</td>\n",
       "      <td>43.4</td>\n",
       "      <td>3.82</td>\n",
       "      <td>NaN</td>\n",
       "      <td>1</td>\n",
       "      <td>won</td>\n",
       "      <td>Pakistan</td>\n",
       "      <td>Delhi</td>\n",
       "      <td>6 Jan 2013</td>\n",
       "      <td>3316</td>\n",
       "      <td>India</td>\n",
       "      <td>6</td>\n",
       "      <td>167</td>\n",
       "      <td>10</td>\n",
       "      <td>167</td>\n",
       "    </tr>\n",
       "    <tr>\n",
       "      <th>5</th>\n",
       "      <td>1076</td>\n",
       "      <td>305/5</td>\n",
       "      <td>50.0</td>\n",
       "      <td>6.10</td>\n",
       "      <td>NaN</td>\n",
       "      <td>1</td>\n",
       "      <td>won</td>\n",
       "      <td>Sri</td>\n",
       "      <td>Melbourne</td>\n",
       "      <td>11 Jan 2013</td>\n",
       "      <td>3317</td>\n",
       "      <td>Australia</td>\n",
       "      <td>2</td>\n",
       "      <td>305</td>\n",
       "      <td>5</td>\n",
       "      <td>305</td>\n",
       "    </tr>\n",
       "    <tr>\n",
       "      <th>7</th>\n",
       "      <td>836</td>\n",
       "      <td>325/4</td>\n",
       "      <td>50.0</td>\n",
       "      <td>6.50</td>\n",
       "      <td>NaN</td>\n",
       "      <td>1</td>\n",
       "      <td>won</td>\n",
       "      <td>India</td>\n",
       "      <td>Rajkot</td>\n",
       "      <td>11 Jan 2013</td>\n",
       "      <td>3318</td>\n",
       "      <td>England</td>\n",
       "      <td>1</td>\n",
       "      <td>325</td>\n",
       "      <td>4</td>\n",
       "      <td>325</td>\n",
       "    </tr>\n",
       "    <tr>\n",
       "      <th>9</th>\n",
       "      <td>1077</td>\n",
       "      <td>170/10</td>\n",
       "      <td>46.5</td>\n",
       "      <td>3.62</td>\n",
       "      <td>NaN</td>\n",
       "      <td>1</td>\n",
       "      <td>lost</td>\n",
       "      <td>Sri</td>\n",
       "      <td>Adelaide</td>\n",
       "      <td>13 Jan 2013</td>\n",
       "      <td>3319</td>\n",
       "      <td>Australia</td>\n",
       "      <td>2</td>\n",
       "      <td>170</td>\n",
       "      <td>10</td>\n",
       "      <td>170</td>\n",
       "    </tr>\n",
       "  </tbody>\n",
       "</table>\n",
       "</div>"
      ],
      "text/plain": [
       "   Unnamed: 0   Score  Overs   RPO  Target  Inns Result bowl_team     Ground  \\\n",
       "0         412  250/10   48.3  5.15     NaN     1    won     India    Kolkata   \n",
       "3         681  167/10   43.4  3.82     NaN     1    won  Pakistan      Delhi   \n",
       "5        1076   305/5   50.0  6.10     NaN     1    won       Sri  Melbourne   \n",
       "7         836   325/4   50.0  6.50     NaN     1    won     India     Rajkot   \n",
       "9        1077  170/10   46.5  3.62     NaN     1   lost       Sri   Adelaide   \n",
       "\n",
       "    Start Date Match_ID   bat_team  Country_ID  Runs  Wickets  total  \n",
       "0   3 Jan 2013     3315   Pakistan           7   250       10    250  \n",
       "3   6 Jan 2013     3316      India           6   167       10    167  \n",
       "5  11 Jan 2013     3317  Australia           2   305        5    305  \n",
       "7  11 Jan 2013     3318    England           1   325        4    325  \n",
       "9  13 Jan 2013     3319  Australia           2   170       10    170  "
      ]
     },
     "execution_count": 9,
     "metadata": {},
     "output_type": "execute_result"
    }
   ],
   "source": [
    "def extract_runs(score):\n",
    "    return int(score.split('/')[0])\n",
    "def extract_wickets(score):\n",
    "    return int(score.split('/')[1])\n",
    "def change(score):\n",
    "    if '/' not in score:\n",
    "        return score+'/10'\n",
    "    else:\n",
    "        return score\n",
    "def alter(Opposition):\n",
    "    return Opposition.split()[1]\n",
    "def is_dnb_present(scores):\n",
    "    return 'DNB' in scores.values\n",
    "\n",
    "def matchid(mid):\n",
    "    return mid.split()[-1]\n",
    "#Dropping matches with n/r\n",
    "odi_df=odi_df[odi_df['Result'].isin(['won','lost'])]\n",
    "match_ids_to_drop = odi_df.groupby('Match_ID')['Score'].filter(is_dnb_present).index\n",
    "odi_df = odi_df.drop(match_ids_to_drop)\n",
    "odi_df['Score']=odi_df['Score'].apply(change)\n",
    "odi_df['Runs']=odi_df['Score'].apply(extract_runs)\n",
    "odi_df['Wickets']=odi_df['Score'].apply(extract_wickets)\n",
    "odi_df['Opposition']=odi_df['Opposition'].apply(alter)\n",
    "odi_df['Match_ID']=odi_df['Match_ID'].apply(matchid)\n",
    "odi_df.rename(columns={'Country': 'bat_team', 'Opposition': 'bowl_team'}, inplace=True)\n",
    "odi_df['total']=odi_df['Runs']\n",
    "odi_df.head(5)"
   ]
  },
  {
   "cell_type": "code",
   "execution_count": 10,
   "id": "516ed7b8",
   "metadata": {
    "colab": {
     "base_uri": "https://localhost:8080/",
     "height": 620
    },
    "id": "516ed7b8",
    "outputId": "73e6af71-0928-4cea-a16d-096350622ec1"
   },
   "outputs": [
    {
     "data": {
      "image/png": "[encoded data removed]",
      "text/plain": [
       "<Figure size 1000x600 with 1 Axes>"
      ]
     },
     "metadata": {},
     "output_type": "display_data"
    }
   ],
   "source": [
    "#RPO for every Country\n",
    "odi_df['RPO'] = pd.to_numeric(odi_df['RPO'], errors='coerce')\n",
    "grouped_data = odi_df.groupby('bat_team')['RPO'].mean()\n",
    "grouped_df = grouped_data.reset_index()\n",
    "fig, ax = plt.subplots(figsize=(10, 6))\n",
    "ax.bar(grouped_df['bat_team'], grouped_df['RPO'])\n",
    "ax.set_xlabel('Country')\n",
    "ax.set_ylabel('Runs Per Over (RPO)')\n",
    "ax.set_title('Runs Per Over(RPO) for Each Country')\n",
    "plt.xticks(rotation = 45)\n",
    "plt.show()"
   ]
  },
  {
   "cell_type": "code",
   "execution_count": 11,
   "id": "00831040",
   "metadata": {
    "colab": {
     "base_uri": "https://localhost:8080/",
     "height": 620
    },
    "id": "00831040",
    "outputId": "ef094876-9c03-4f50-a047-20b6d17db2eb"
   },
   "outputs": [
    {
     "data": {
      "image/png": "[encoded data removed]",
      "text/plain": [
       "<Figure size 1000x600 with 1 Axes>"
      ]
     },
     "metadata": {},
     "output_type": "display_data"
    }
   ],
   "source": [
    "#Runs Scored by every Country\n",
    "grouped_data = odi_df.groupby('bat_team')['Runs'].mean()\n",
    "grouped_df = grouped_data.reset_index()\n",
    "fig, ax = plt.subplots(figsize=(10, 6))\n",
    "ax.bar(grouped_df['bat_team'], grouped_df['Runs'])\n",
    "ax.set_xlabel('Country')\n",
    "ax.set_ylabel('Runs')\n",
    "ax.set_title('Average Runs for Each Country')\n",
    "plt.xticks(rotation = 45)\n",
    "plt.show()"
   ]
  },
  {
   "cell_type": "code",
   "execution_count": 12,
   "id": "bee262ae",
   "metadata": {
    "colab": {
     "base_uri": "https://localhost:8080/",
     "height": 620
    },
    "id": "bee262ae",
    "outputId": "6e70bf3f-012f-4465-8891-722ca1fc6aca"
   },
   "outputs": [
    {
     "data": {
      "image/png": "[encoded data removed]",
      "text/plain": [
       "<Figure size 1000x600 with 1 Axes>"
      ]
     },
     "metadata": {},
     "output_type": "display_data"
    }
   ],
   "source": [
    "grouped_data = odi_df.groupby('bat_team')['Wickets'].mean()\n",
    "grouped_df = grouped_data.reset_index()\n",
    "fig, ax = plt.subplots(figsize=(10, 6))\n",
    "ax.bar(grouped_df['bat_team'], grouped_df['Wickets'])\n",
    "ax.set_xlabel('Country')\n",
    "ax.set_ylabel('Wickets')\n",
    "ax.set_title('Average Wickets Lost by Each Country')\n",
    "plt.xticks(rotation = 45)\n",
    "plt.show()"
   ]
  },
  {
   "cell_type": "code",
   "execution_count": 13,
   "id": "d5f022a3",
   "metadata": {
    "colab": {
     "base_uri": "https://localhost:8080/",
     "height": 206
    },
    "id": "d5f022a3",
    "outputId": "867de1a3-4503-4ae1-b537-19ca67150f3e"
   },
   "outputs": [
    {
     "data": {
      "text/html": [
       "<div>\n",
       "<style scoped>\n",
       "    .dataframe tbody tr th:only-of-type {\n",
       "        vertical-align: middle;\n",
       "    }\n",
       "\n",
       "    .dataframe tbody tr th {\n",
       "        vertical-align: top;\n",
       "    }\n",
       "\n",
       "    .dataframe thead th {\n",
       "        text-align: right;\n",
       "    }\n",
       "</style>\n",
       "<table border=\"1\" class=\"dataframe\">\n",
       "  <thead>\n",
       "    <tr style=\"text-align: right;\">\n",
       "      <th></th>\n",
       "      <th>Overs</th>\n",
       "      <th>Result</th>\n",
       "      <th>bowl_team</th>\n",
       "      <th>bat_team</th>\n",
       "      <th>Runs</th>\n",
       "      <th>Wickets</th>\n",
       "    </tr>\n",
       "  </thead>\n",
       "  <tbody>\n",
       "    <tr>\n",
       "      <th>0</th>\n",
       "      <td>48.3</td>\n",
       "      <td>won</td>\n",
       "      <td>India</td>\n",
       "      <td>Pakistan</td>\n",
       "      <td>250</td>\n",
       "      <td>10</td>\n",
       "    </tr>\n",
       "    <tr>\n",
       "      <th>3</th>\n",
       "      <td>43.4</td>\n",
       "      <td>won</td>\n",
       "      <td>Pakistan</td>\n",
       "      <td>India</td>\n",
       "      <td>167</td>\n",
       "      <td>10</td>\n",
       "    </tr>\n",
       "    <tr>\n",
       "      <th>5</th>\n",
       "      <td>50.0</td>\n",
       "      <td>won</td>\n",
       "      <td>Sri</td>\n",
       "      <td>Australia</td>\n",
       "      <td>305</td>\n",
       "      <td>5</td>\n",
       "    </tr>\n",
       "    <tr>\n",
       "      <th>7</th>\n",
       "      <td>50.0</td>\n",
       "      <td>won</td>\n",
       "      <td>India</td>\n",
       "      <td>England</td>\n",
       "      <td>325</td>\n",
       "      <td>4</td>\n",
       "    </tr>\n",
       "    <tr>\n",
       "      <th>9</th>\n",
       "      <td>46.5</td>\n",
       "      <td>lost</td>\n",
       "      <td>Sri</td>\n",
       "      <td>Australia</td>\n",
       "      <td>170</td>\n",
       "      <td>10</td>\n",
       "    </tr>\n",
       "  </tbody>\n",
       "</table>\n",
       "</div>"
      ],
      "text/plain": [
       "   Overs Result bowl_team   bat_team  Runs  Wickets\n",
       "0   48.3    won     India   Pakistan   250       10\n",
       "3   43.4    won  Pakistan      India   167       10\n",
       "5   50.0    won       Sri  Australia   305        5\n",
       "7   50.0    won     India    England   325        4\n",
       "9   46.5   lost       Sri  Australia   170       10"
      ]
     },
     "execution_count": 13,
     "metadata": {},
     "output_type": "execute_result"
    }
   ],
   "source": [
    "#Dropping Useless Columns\n",
    "irrelevant=['Unnamed: 0','Ground','Start Date','Country_ID','Score','RPO','Target','Inns','Match_ID','total']\n",
    "\n",
    "odi_df=odi_df.drop(columns=irrelevant,axis=1)\n",
    "odi_df.head()\n"
   ]
  },
  {
   "cell_type": "code",
   "execution_count": 14,
   "id": "76a1ae8b",
   "metadata": {
    "colab": {
     "base_uri": "https://localhost:8080/",
     "height": 908
    },
    "id": "76a1ae8b",
    "outputId": "2c8329f9-07e0-4491-f290-f948dd116338"
   },
   "outputs": [
    {
     "name": "stderr",
     "output_type": "stream",
     "text": [
      "C:\\Users\\parth\\AppData\\Local\\Temp\\ipykernel_2304\\3628611605.py:4: FutureWarning: The default value of numeric_only in DataFrame.corr is deprecated. In a future version, it will default to False. Select only valid columns or specify the value of numeric_only to silence this warning.\n",
      "  corr_matrix=odi_df.corr()\n"
     ]
    },
    {
     "data": {
      "image/png": "[encoded data removed]",
      "text/plain": [
       "<Figure size 1500x1000 with 2 Axes>"
      ]
     },
     "metadata": {},
     "output_type": "display_data"
    }
   ],
   "source": [
    "#Plotting Correlation Matrix\n",
    "alternate_order=['bat_team','bowl_team','Runs','Wickets','Overs','Result']\n",
    "odi_df=odi_df[alternate_order]\n",
    "corr_matrix=odi_df.corr()\n",
    "plt.figure(figsize=(15, 10))\n",
    "sns.heatmap(corr_matrix,cmap='coolwarm', annot=True, fmt=\".4f\")\n",
    "plt.title('Correlation Matrix')\n",
    "plt.show()"
   ]
  },
  {
   "cell_type": "code",
   "execution_count": 15,
   "id": "56666b1e",
   "metadata": {
    "colab": {
     "base_uri": "https://localhost:8080/",
     "height": 1000
    },
    "id": "56666b1e",
    "outputId": "08da5388-d937-4808-9b2d-6bd0612f01a8"
   },
   "outputs": [
    {
     "data": {
      "text/html": [
       "<div>\n",
       "<style scoped>\n",
       "    .dataframe tbody tr th:only-of-type {\n",
       "        vertical-align: middle;\n",
       "    }\n",
       "\n",
       "    .dataframe tbody tr th {\n",
       "        vertical-align: top;\n",
       "    }\n",
       "\n",
       "    .dataframe thead th {\n",
       "        text-align: right;\n",
       "    }\n",
       "</style>\n",
       "<table border=\"1\" class=\"dataframe\">\n",
       "  <thead>\n",
       "    <tr style=\"text-align: right;\">\n",
       "      <th></th>\n",
       "      <th>bat_team</th>\n",
       "      <th>bowl_team</th>\n",
       "      <th>Runs</th>\n",
       "      <th>Wickets</th>\n",
       "      <th>Overs</th>\n",
       "      <th>Result</th>\n",
       "    </tr>\n",
       "  </thead>\n",
       "  <tbody>\n",
       "    <tr>\n",
       "      <th>0</th>\n",
       "      <td>Pakistan</td>\n",
       "      <td>India</td>\n",
       "      <td>250</td>\n",
       "      <td>10</td>\n",
       "      <td>48.3</td>\n",
       "      <td>1</td>\n",
       "    </tr>\n",
       "    <tr>\n",
       "      <th>3</th>\n",
       "      <td>India</td>\n",
       "      <td>Pakistan</td>\n",
       "      <td>167</td>\n",
       "      <td>10</td>\n",
       "      <td>43.4</td>\n",
       "      <td>1</td>\n",
       "    </tr>\n",
       "    <tr>\n",
       "      <th>5</th>\n",
       "      <td>Australia</td>\n",
       "      <td>Sri</td>\n",
       "      <td>305</td>\n",
       "      <td>5</td>\n",
       "      <td>50.0</td>\n",
       "      <td>1</td>\n",
       "    </tr>\n",
       "    <tr>\n",
       "      <th>7</th>\n",
       "      <td>England</td>\n",
       "      <td>India</td>\n",
       "      <td>325</td>\n",
       "      <td>4</td>\n",
       "      <td>50.0</td>\n",
       "      <td>1</td>\n",
       "    </tr>\n",
       "    <tr>\n",
       "      <th>9</th>\n",
       "      <td>Australia</td>\n",
       "      <td>Sri</td>\n",
       "      <td>170</td>\n",
       "      <td>10</td>\n",
       "      <td>46.5</td>\n",
       "      <td>0</td>\n",
       "    </tr>\n",
       "    <tr>\n",
       "      <th>10</th>\n",
       "      <td>India</td>\n",
       "      <td>England</td>\n",
       "      <td>285</td>\n",
       "      <td>6</td>\n",
       "      <td>50.0</td>\n",
       "      <td>1</td>\n",
       "    </tr>\n",
       "    <tr>\n",
       "      <th>13</th>\n",
       "      <td>Australia</td>\n",
       "      <td>Sri</td>\n",
       "      <td>74</td>\n",
       "      <td>10</td>\n",
       "      <td>26.4</td>\n",
       "      <td>0</td>\n",
       "    </tr>\n",
       "    <tr>\n",
       "      <th>15</th>\n",
       "      <td>England</td>\n",
       "      <td>India</td>\n",
       "      <td>155</td>\n",
       "      <td>10</td>\n",
       "      <td>42.2</td>\n",
       "      <td>0</td>\n",
       "    </tr>\n",
       "    <tr>\n",
       "      <th>16</th>\n",
       "      <td>SouthAfrica</td>\n",
       "      <td>New</td>\n",
       "      <td>208</td>\n",
       "      <td>10</td>\n",
       "      <td>46.2</td>\n",
       "      <td>0</td>\n",
       "    </tr>\n",
       "    <tr>\n",
       "      <th>21</th>\n",
       "      <td>Newzealand</td>\n",
       "      <td>South</td>\n",
       "      <td>279</td>\n",
       "      <td>8</td>\n",
       "      <td>50.0</td>\n",
       "      <td>1</td>\n",
       "    </tr>\n",
       "    <tr>\n",
       "      <th>23</th>\n",
       "      <td>Australia</td>\n",
       "      <td>Sri</td>\n",
       "      <td>247</td>\n",
       "      <td>5</td>\n",
       "      <td>50.0</td>\n",
       "      <td>1</td>\n",
       "    </tr>\n",
       "    <tr>\n",
       "      <th>25</th>\n",
       "      <td>England</td>\n",
       "      <td>India</td>\n",
       "      <td>257</td>\n",
       "      <td>7</td>\n",
       "      <td>50.0</td>\n",
       "      <td>0</td>\n",
       "    </tr>\n",
       "    <tr>\n",
       "      <th>27</th>\n",
       "      <td>Newzealand</td>\n",
       "      <td>South</td>\n",
       "      <td>260</td>\n",
       "      <td>9</td>\n",
       "      <td>50.0</td>\n",
       "      <td>0</td>\n",
       "    </tr>\n",
       "    <tr>\n",
       "      <th>28</th>\n",
       "      <td>India</td>\n",
       "      <td>England</td>\n",
       "      <td>226</td>\n",
       "      <td>10</td>\n",
       "      <td>49.4</td>\n",
       "      <td>0</td>\n",
       "    </tr>\n",
       "    <tr>\n",
       "      <th>30</th>\n",
       "      <td>WestIndies</td>\n",
       "      <td>Australia</td>\n",
       "      <td>70</td>\n",
       "      <td>10</td>\n",
       "      <td>23.5</td>\n",
       "      <td>0</td>\n",
       "    </tr>\n",
       "    <tr>\n",
       "      <th>33</th>\n",
       "      <td>Australia</td>\n",
       "      <td>West</td>\n",
       "      <td>266</td>\n",
       "      <td>7</td>\n",
       "      <td>50.0</td>\n",
       "      <td>1</td>\n",
       "    </tr>\n",
       "    <tr>\n",
       "      <th>35</th>\n",
       "      <td>Australia</td>\n",
       "      <td>West</td>\n",
       "      <td>329</td>\n",
       "      <td>7</td>\n",
       "      <td>50.0</td>\n",
       "      <td>1</td>\n",
       "    </tr>\n",
       "    <tr>\n",
       "      <th>36</th>\n",
       "      <td>WestIndies</td>\n",
       "      <td>Australia</td>\n",
       "      <td>220</td>\n",
       "      <td>10</td>\n",
       "      <td>49.4</td>\n",
       "      <td>0</td>\n",
       "    </tr>\n",
       "    <tr>\n",
       "      <th>39</th>\n",
       "      <td>Australia</td>\n",
       "      <td>West</td>\n",
       "      <td>274</td>\n",
       "      <td>5</td>\n",
       "      <td>50.0</td>\n",
       "      <td>1</td>\n",
       "    </tr>\n",
       "    <tr>\n",
       "      <th>41</th>\n",
       "      <td>England</td>\n",
       "      <td>New</td>\n",
       "      <td>258</td>\n",
       "      <td>10</td>\n",
       "      <td>49.3</td>\n",
       "      <td>0</td>\n",
       "    </tr>\n",
       "    <tr>\n",
       "      <th>42</th>\n",
       "      <td>Newzealand</td>\n",
       "      <td>England</td>\n",
       "      <td>269</td>\n",
       "      <td>10</td>\n",
       "      <td>48.5</td>\n",
       "      <td>0</td>\n",
       "    </tr>\n",
       "    <tr>\n",
       "      <th>44</th>\n",
       "      <td>WestIndies</td>\n",
       "      <td>Zimbabwe</td>\n",
       "      <td>337</td>\n",
       "      <td>4</td>\n",
       "      <td>50.0</td>\n",
       "      <td>1</td>\n",
       "    </tr>\n",
       "    <tr>\n",
       "      <th>45</th>\n",
       "      <td>Newzealand</td>\n",
       "      <td>England</td>\n",
       "      <td>185</td>\n",
       "      <td>10</td>\n",
       "      <td>43.5</td>\n",
       "      <td>0</td>\n",
       "    </tr>\n",
       "    <tr>\n",
       "      <th>51</th>\n",
       "      <td>SouthAfrica</td>\n",
       "      <td>Pakistan</td>\n",
       "      <td>315</td>\n",
       "      <td>4</td>\n",
       "      <td>50.0</td>\n",
       "      <td>1</td>\n",
       "    </tr>\n",
       "    <tr>\n",
       "      <th>53</th>\n",
       "      <td>SouthAfrica</td>\n",
       "      <td>Pakistan</td>\n",
       "      <td>191</td>\n",
       "      <td>10</td>\n",
       "      <td>43.2</td>\n",
       "      <td>0</td>\n",
       "    </tr>\n",
       "    <tr>\n",
       "      <th>55</th>\n",
       "      <td>SouthAfrica</td>\n",
       "      <td>Pakistan</td>\n",
       "      <td>343</td>\n",
       "      <td>5</td>\n",
       "      <td>50.0</td>\n",
       "      <td>1</td>\n",
       "    </tr>\n",
       "    <tr>\n",
       "      <th>57</th>\n",
       "      <td>SouthAfrica</td>\n",
       "      <td>Pakistan</td>\n",
       "      <td>234</td>\n",
       "      <td>9</td>\n",
       "      <td>50.0</td>\n",
       "      <td>0</td>\n",
       "    </tr>\n",
       "    <tr>\n",
       "      <th>60</th>\n",
       "      <td>Bangladesh</td>\n",
       "      <td>Sri</td>\n",
       "      <td>259</td>\n",
       "      <td>8</td>\n",
       "      <td>50.0</td>\n",
       "      <td>0</td>\n",
       "    </tr>\n",
       "    <tr>\n",
       "      <th>62</th>\n",
       "      <td>Pakistan</td>\n",
       "      <td>South</td>\n",
       "      <td>205</td>\n",
       "      <td>10</td>\n",
       "      <td>49.1</td>\n",
       "      <td>0</td>\n",
       "    </tr>\n",
       "    <tr>\n",
       "      <th>65</th>\n",
       "      <td>SriLanka</td>\n",
       "      <td>Bangladesh</td>\n",
       "      <td>302</td>\n",
       "      <td>9</td>\n",
       "      <td>50.0</td>\n",
       "      <td>0</td>\n",
       "    </tr>\n",
       "    <tr>\n",
       "      <th>67</th>\n",
       "      <td>Bangladesh</td>\n",
       "      <td>Zimbabwe</td>\n",
       "      <td>269</td>\n",
       "      <td>8</td>\n",
       "      <td>50.0</td>\n",
       "      <td>1</td>\n",
       "    </tr>\n",
       "    <tr>\n",
       "      <th>68</th>\n",
       "      <td>Bangladesh</td>\n",
       "      <td>Zimbabwe</td>\n",
       "      <td>252</td>\n",
       "      <td>9</td>\n",
       "      <td>50.0</td>\n",
       "      <td>0</td>\n",
       "    </tr>\n",
       "    <tr>\n",
       "      <th>69</th>\n",
       "      <td>Bangladesh</td>\n",
       "      <td>Zimbabwe</td>\n",
       "      <td>247</td>\n",
       "      <td>9</td>\n",
       "      <td>50.0</td>\n",
       "      <td>0</td>\n",
       "    </tr>\n",
       "    <tr>\n",
       "      <th>70</th>\n",
       "      <td>Pakistan</td>\n",
       "      <td>Scotland</td>\n",
       "      <td>231</td>\n",
       "      <td>7</td>\n",
       "      <td>50.0</td>\n",
       "      <td>1</td>\n",
       "    </tr>\n",
       "    <tr>\n",
       "      <th>73</th>\n",
       "      <td>SouthAfrica</td>\n",
       "      <td>Netherlands</td>\n",
       "      <td>341</td>\n",
       "      <td>3</td>\n",
       "      <td>50.0</td>\n",
       "      <td>1</td>\n",
       "    </tr>\n",
       "    <tr>\n",
       "      <th>75</th>\n",
       "      <td>England</td>\n",
       "      <td>New</td>\n",
       "      <td>227</td>\n",
       "      <td>9</td>\n",
       "      <td>50.0</td>\n",
       "      <td>0</td>\n",
       "    </tr>\n",
       "    <tr>\n",
       "      <th>76</th>\n",
       "      <td>Newzealand</td>\n",
       "      <td>England</td>\n",
       "      <td>359</td>\n",
       "      <td>3</td>\n",
       "      <td>50.0</td>\n",
       "      <td>1</td>\n",
       "    </tr>\n",
       "    <tr>\n",
       "      <th>79</th>\n",
       "      <td>England</td>\n",
       "      <td>New</td>\n",
       "      <td>287</td>\n",
       "      <td>6</td>\n",
       "      <td>50.0</td>\n",
       "      <td>1</td>\n",
       "    </tr>\n",
       "    <tr>\n",
       "      <th>81</th>\n",
       "      <td>India</td>\n",
       "      <td>South</td>\n",
       "      <td>331</td>\n",
       "      <td>7</td>\n",
       "      <td>50.0</td>\n",
       "      <td>1</td>\n",
       "    </tr>\n",
       "    <tr>\n",
       "      <th>83</th>\n",
       "      <td>Pakistan</td>\n",
       "      <td>West</td>\n",
       "      <td>170</td>\n",
       "      <td>10</td>\n",
       "      <td>48.0</td>\n",
       "      <td>0</td>\n",
       "    </tr>\n",
       "    <tr>\n",
       "      <th>84</th>\n",
       "      <td>England</td>\n",
       "      <td>Australia</td>\n",
       "      <td>269</td>\n",
       "      <td>6</td>\n",
       "      <td>50.0</td>\n",
       "      <td>1</td>\n",
       "    </tr>\n",
       "    <tr>\n",
       "      <th>86</th>\n",
       "      <td>SriLanka</td>\n",
       "      <td>New</td>\n",
       "      <td>138</td>\n",
       "      <td>10</td>\n",
       "      <td>37.5</td>\n",
       "      <td>0</td>\n",
       "    </tr>\n",
       "    <tr>\n",
       "      <th>88</th>\n",
       "      <td>SouthAfrica</td>\n",
       "      <td>Pakistan</td>\n",
       "      <td>234</td>\n",
       "      <td>9</td>\n",
       "      <td>50.0</td>\n",
       "      <td>1</td>\n",
       "    </tr>\n",
       "    <tr>\n",
       "      <th>90</th>\n",
       "      <td>WestIndies</td>\n",
       "      <td>India</td>\n",
       "      <td>233</td>\n",
       "      <td>9</td>\n",
       "      <td>50.0</td>\n",
       "      <td>0</td>\n",
       "    </tr>\n",
       "    <tr>\n",
       "      <th>95</th>\n",
       "      <td>England</td>\n",
       "      <td>Sri</td>\n",
       "      <td>293</td>\n",
       "      <td>7</td>\n",
       "      <td>50.0</td>\n",
       "      <td>0</td>\n",
       "    </tr>\n",
       "    <tr>\n",
       "      <th>98</th>\n",
       "      <td>Pakistan</td>\n",
       "      <td>India</td>\n",
       "      <td>165</td>\n",
       "      <td>10</td>\n",
       "      <td>39.4</td>\n",
       "      <td>0</td>\n",
       "    </tr>\n",
       "    <tr>\n",
       "      <th>101</th>\n",
       "      <td>England</td>\n",
       "      <td>New</td>\n",
       "      <td>169</td>\n",
       "      <td>10</td>\n",
       "      <td>23.3</td>\n",
       "      <td>1</td>\n",
       "    </tr>\n",
       "    <tr>\n",
       "      <th>102</th>\n",
       "      <td>SriLanka</td>\n",
       "      <td>Australia</td>\n",
       "      <td>253</td>\n",
       "      <td>8</td>\n",
       "      <td>50.0</td>\n",
       "      <td>1</td>\n",
       "    </tr>\n",
       "    <tr>\n",
       "      <th>104</th>\n",
       "      <td>SouthAfrica</td>\n",
       "      <td>England</td>\n",
       "      <td>175</td>\n",
       "      <td>10</td>\n",
       "      <td>38.4</td>\n",
       "      <td>0</td>\n",
       "    </tr>\n",
       "    <tr>\n",
       "      <th>106</th>\n",
       "      <td>SriLanka</td>\n",
       "      <td>India</td>\n",
       "      <td>181</td>\n",
       "      <td>8</td>\n",
       "      <td>50.0</td>\n",
       "      <td>0</td>\n",
       "    </tr>\n",
       "  </tbody>\n",
       "</table>\n",
       "</div>"
      ],
      "text/plain": [
       "        bat_team    bowl_team  Runs  Wickets  Overs  Result\n",
       "0       Pakistan        India   250       10   48.3       1\n",
       "3          India     Pakistan   167       10   43.4       1\n",
       "5      Australia          Sri   305        5   50.0       1\n",
       "7        England        India   325        4   50.0       1\n",
       "9      Australia          Sri   170       10   46.5       0\n",
       "10         India      England   285        6   50.0       1\n",
       "13     Australia          Sri    74       10   26.4       0\n",
       "15       England        India   155       10   42.2       0\n",
       "16   SouthAfrica          New   208       10   46.2       0\n",
       "21    Newzealand        South   279        8   50.0       1\n",
       "23     Australia          Sri   247        5   50.0       1\n",
       "25       England        India   257        7   50.0       0\n",
       "27    Newzealand        South   260        9   50.0       0\n",
       "28         India      England   226       10   49.4       0\n",
       "30    WestIndies    Australia    70       10   23.5       0\n",
       "33     Australia         West   266        7   50.0       1\n",
       "35     Australia         West   329        7   50.0       1\n",
       "36    WestIndies    Australia   220       10   49.4       0\n",
       "39     Australia         West   274        5   50.0       1\n",
       "41       England          New   258       10   49.3       0\n",
       "42    Newzealand      England   269       10   48.5       0\n",
       "44    WestIndies     Zimbabwe   337        4   50.0       1\n",
       "45    Newzealand      England   185       10   43.5       0\n",
       "51   SouthAfrica     Pakistan   315        4   50.0       1\n",
       "53   SouthAfrica     Pakistan   191       10   43.2       0\n",
       "55   SouthAfrica     Pakistan   343        5   50.0       1\n",
       "57   SouthAfrica     Pakistan   234        9   50.0       0\n",
       "60    Bangladesh          Sri   259        8   50.0       0\n",
       "62      Pakistan        South   205       10   49.1       0\n",
       "65      SriLanka   Bangladesh   302        9   50.0       0\n",
       "67    Bangladesh     Zimbabwe   269        8   50.0       1\n",
       "68    Bangladesh     Zimbabwe   252        9   50.0       0\n",
       "69    Bangladesh     Zimbabwe   247        9   50.0       0\n",
       "70      Pakistan     Scotland   231        7   50.0       1\n",
       "73   SouthAfrica  Netherlands   341        3   50.0       1\n",
       "75       England          New   227        9   50.0       0\n",
       "76    Newzealand      England   359        3   50.0       1\n",
       "79       England          New   287        6   50.0       1\n",
       "81         India        South   331        7   50.0       1\n",
       "83      Pakistan         West   170       10   48.0       0\n",
       "84       England    Australia   269        6   50.0       1\n",
       "86      SriLanka          New   138       10   37.5       0\n",
       "88   SouthAfrica     Pakistan   234        9   50.0       1\n",
       "90    WestIndies        India   233        9   50.0       0\n",
       "95       England          Sri   293        7   50.0       0\n",
       "98      Pakistan        India   165       10   39.4       0\n",
       "101      England          New   169       10   23.3       1\n",
       "102     SriLanka    Australia   253        8   50.0       1\n",
       "104  SouthAfrica      England   175       10   38.4       0\n",
       "106     SriLanka        India   181        8   50.0       0"
      ]
     },
     "execution_count": 15,
     "metadata": {},
     "output_type": "execute_result"
    }
   ],
   "source": [
    "odi_df['Result'] = odi_df['Result'].map({'won': 1, 'lost': 0})\n",
    "\n",
    "odi_df.head(50)\n"
   ]
  },
  {
   "cell_type": "code",
   "execution_count": 16,
   "id": "KlqjhKzbKVED",
   "metadata": {
    "id": "KlqjhKzbKVED"
   },
   "outputs": [],
   "source": [
    "# Encoding categorical features\n",
    "label_encoder = LabelEncoder()\n",
    "odi_df['bat_team'] = label_encoder.fit_transform(odi_df['bat_team'])\n",
    "odi_df['bowl_team'] = label_encoder.fit_transform(odi_df['bowl_team'])\n",
    "\n",
    "# Feature selection\n",
    "X = odi_df[['Runs', 'Wickets', 'Overs', 'bat_team', 'bowl_team']]\n",
    "y = odi_df['Result']\n",
    "X_train, X_test, y_train, y_test = train_test_split(X, y, test_size=0.3, random_state=100)\n"
   ]
  },
  {
   "cell_type": "code",
   "execution_count": 17,
   "id": "4yN-t4EQLhF2",
   "metadata": {
    "id": "4yN-t4EQLhF2"
   },
   "outputs": [],
   "source": [
    "# Use one-hot encoding for categorical features\n",
    "column_transformer = ColumnTransformer(\n",
    "    transformers=[('encoder', OneHotEncoder(), ['bat_team', 'bowl_team'])],\n",
    "    remainder='passthrough'\n",
    ")\n",
    "\n",
    "X_encoded = column_transformer.fit_transform(X_train)\n",
    "\n"
   ]
  },
  {
   "cell_type": "code",
   "execution_count": 18,
   "id": "9b626f6c",
   "metadata": {},
   "outputs": [],
   "source": [
    "# Train a Support Vector Classifier (SVC)\n",
    "svc_classifier = SVC(probability=True, random_state=42)\n",
    "svc_classifier.fit(X_encoded, y_train)\n",
    "\n",
    "def predict_win_probability_svc(runs, wickets, overs, bat_team, bowl_team):\n",
    "    # Encode categorical features\n",
    "    bat_team_encoded = label_encoder.transform([bat_team])[0]\n",
    "    bowl_team_encoded = label_encoder.transform([bowl_team])[0]\n",
    "\n",
    "    # Create a DataFrame with the input data\n",
    "    input_data = pd.DataFrame({\n",
    "        'Runs': [runs],\n",
    "        'Wickets': [wickets],\n",
    "        'Overs': [overs],\n",
    "        'bat_team': [bat_team_encoded],\n",
    "        'bowl_team': [bowl_team_encoded]\n",
    "    })\n",
    "\n",
    "    # Use one-hot encoding for categorical features\n",
    "    input_data_encoded = column_transformer.transform(input_data)\n",
    "\n",
    "    # Make predictions\n",
    "    win_probability = svc_classifier.predict_proba(input_data_encoded)[:, 1][0]\n",
    "\n",
    "    return win_probability"
   ]
  },
  {
   "cell_type": "code",
   "execution_count": 19,
   "id": "4Xl9B9mrLj-l",
   "metadata": {
    "colab": {
     "base_uri": "https://localhost:8080/"
    },
    "id": "4Xl9B9mrLj-l",
    "outputId": "2abafca8-194d-4de7-aab0-05b014095396"
   },
   "outputs": [
    {
     "name": "stdout",
     "output_type": "stream",
     "text": [
      "Predicted Win Percentage (SVC): 43.25%\n",
      "Winner-Australia\n"
     ]
    }
   ],
   "source": [
    "# Test Case 1\n",
    "runs_input = 240\n",
    "wickets_input = 9\n",
    "overs_input = 50\n",
    "bat_team_input = 'India'\n",
    "bowl_team_input = 'Australia'\n",
    "\n",
    "\n",
    "win_percentage_svc= predict_win_probability_svc(runs_input, wickets_input, overs_input, bat_team_input, bowl_team_input)\n",
    "print(f'Predicted Win Percentage (SVC): {win_percentage_svc * 100:.2f}%')\n",
    "print('Winner-Australia')"
   ]
  },
  {
   "cell_type": "code",
   "execution_count": 20,
   "id": "DLy5r45WSIZi",
   "metadata": {
    "colab": {
     "base_uri": "https://localhost:8080/"
    },
    "id": "DLy5r45WSIZi",
    "outputId": "00e29e3e-b813-403c-a13f-ebb677d9c29f"
   },
   "outputs": [
    {
     "name": "stdout",
     "output_type": "stream",
     "text": [
      "Predicted Win Percentage (SVC): 22.60%\n",
      "Winner-India\n"
     ]
    }
   ],
   "source": [
    "# Test Case 2\n",
    "runs_input = 199\n",
    "wickets_input = 10\n",
    "overs_input = 49.3\n",
    "bat_team_input = 'Australia'\n",
    "bowl_team_input = 'India'\n",
    "\n",
    "win_percentage_svc = predict_win_probability_svc(runs_input, wickets_input, overs_input, bat_team_input, bowl_team_input)\n",
    "print(f'Predicted Win Percentage (SVC): {win_percentage_svc * 100:.2f}%')\n",
    "print('Winner-India')"
   ]
  },
  {
   "cell_type": "code",
   "execution_count": 21,
   "id": "0TlMroRsSKk2",
   "metadata": {
    "colab": {
     "base_uri": "https://localhost:8080/"
    },
    "id": "0TlMroRsSKk2",
    "outputId": "b7d5f066-296d-4b3c-c5e6-84b6b3ea1ceb"
   },
   "outputs": [
    {
     "name": "stdout",
     "output_type": "stream",
     "text": [
      "Predicted Win Percentage (SVC): 6.15%\n",
      "Winner-India\n"
     ]
    }
   ],
   "source": [
    "# Test Case 3\n",
    "runs_input = 112\n",
    "wickets_input = 5\n",
    "overs_input = 18.2\n",
    "bat_team_input = 'Afghanistan'\n",
    "bowl_team_input = 'India'\n",
    "\n",
    "win_percentage_svc = predict_win_probability_svc(runs_input, wickets_input, overs_input, bat_team_input, bowl_team_input)\n",
    "print(f'Predicted Win Percentage (SVC): {win_percentage_svc * 100:.2f}%')\n",
    "print('Winner-India')"
   ]
  },
  {
   "cell_type": "code",
   "execution_count": 22,
   "id": "q8HX_PsuSLZG",
   "metadata": {
    "colab": {
     "base_uri": "https://localhost:8080/"
    },
    "id": "q8HX_PsuSLZG",
    "outputId": "3dfe70c2-adf9-43b5-a141-a41710621146"
   },
   "outputs": [
    {
     "name": "stdout",
     "output_type": "stream",
     "text": [
      "Predicted Win Percentage (SVC): 19.88%\n",
      "Winner-India\n"
     ]
    }
   ],
   "source": [
    "# Test Case 4\n",
    "runs_input = 191\n",
    "wickets_input = 10\n",
    "overs_input = 42.5\n",
    "bat_team_input = 'Pakistan'\n",
    "bowl_team_input = 'India'\n",
    "\n",
    "win_percentage_svc = predict_win_probability_svc(runs_input, wickets_input, overs_input, bat_team_input, bowl_team_input)\n",
    "print(f'Predicted Win Percentage (SVC): {win_percentage_svc * 100:.2f}%')\n",
    "print('Winner-India')"
   ]
  },
  {
   "cell_type": "code",
   "execution_count": 23,
   "id": "QvVt5S0ASLpZ",
   "metadata": {
    "colab": {
     "base_uri": "https://localhost:8080/"
    },
    "id": "QvVt5S0ASLpZ",
    "outputId": "b0db389f-8d67-4204-89c6-e0b9d0d9e542"
   },
   "outputs": [
    {
     "name": "stdout",
     "output_type": "stream",
     "text": [
      "Predicted Win Percentage (SVC): 52.33%\n",
      "Winner-India\n"
     ]
    }
   ],
   "source": [
    "# Test Case 5\n",
    "runs_input = 256\n",
    "wickets_input = 8\n",
    "overs_input = 50\n",
    "bat_team_input = 'Bangladesh'\n",
    "bowl_team_input = 'India'\n",
    "\n",
    "win_percentage_svc = predict_win_probability_svc(runs_input, wickets_input, overs_input, bat_team_input, bowl_team_input)\n",
    "print(f'Predicted Win Percentage (SVC): {win_percentage_svc * 100:.2f}%')\n",
    "print('Winner-India')"
   ]
  },
  {
   "cell_type": "code",
   "execution_count": 24,
   "id": "bRlwPLHmSL5p",
   "metadata": {
    "colab": {
     "base_uri": "https://localhost:8080/"
    },
    "id": "bRlwPLHmSL5p",
    "outputId": "3f2f256c-42ca-4ae5-a46f-0ec0af5dc620"
   },
   "outputs": [
    {
     "name": "stdout",
     "output_type": "stream",
     "text": [
      "Predicted Win Percentage (SVC): 37.22%\n",
      "Winner-India\n"
     ]
    }
   ],
   "source": [
    "# Test Case 6\n",
    "runs_input = 229\n",
    "wickets_input = 9\n",
    "overs_input = 50\n",
    "bat_team_input = 'India'\n",
    "bowl_team_input = 'England'\n",
    "\n",
    "win_percentage_svc = predict_win_probability_svc(runs_input, wickets_input, overs_input, bat_team_input, bowl_team_input)\n",
    "print(f'Predicted Win Percentage (SVC): {win_percentage_svc * 100:.2f}%')\n",
    "print('Winner-India')"
   ]
  },
  {
   "cell_type": "code",
   "execution_count": 25,
   "id": "GGykn9cWSMKQ",
   "metadata": {
    "colab": {
     "base_uri": "https://localhost:8080/"
    },
    "id": "GGykn9cWSMKQ",
    "outputId": "3a5516e0-7247-45f6-f48a-356d8387934e"
   },
   "outputs": [
    {
     "name": "stdout",
     "output_type": "stream",
     "text": [
      "Predicted Win Percentage (SVC): 84.31%\n",
      "Winner-India\n"
     ]
    }
   ],
   "source": [
    "# Test Case 7\n",
    "runs_input = 356\n",
    "wickets_input =2\n",
    "overs_input = 50\n",
    "bat_team_input = 'India'\n",
    "bowl_team_input = 'Pakistan'\n",
    "\n",
    "win_percentage_svc = predict_win_probability_svc(runs_input, wickets_input, overs_input, bat_team_input, bowl_team_input)\n",
    "print(f'Predicted Win Percentage (SVC): {win_percentage_svc * 100:.2f}%')\n",
    "print('Winner-India')"
   ]
  },
  {
   "cell_type": "code",
   "execution_count": 26,
   "id": "1RYe1F7aSMbl",
   "metadata": {
    "colab": {
     "base_uri": "https://localhost:8080/"
    },
    "id": "1RYe1F7aSMbl",
    "outputId": "539889d5-9a67-4fe4-dcac-e33547aacf1e"
   },
   "outputs": [
    {
     "name": "stdout",
     "output_type": "stream",
     "text": [
      "Predicted Win Percentage (SVC): 59.26%\n",
      "Winner-Australia\n"
     ]
    }
   ],
   "source": [
    "# Test Case 8\n",
    "runs_input = 269\n",
    "wickets_input = 10\n",
    "overs_input = 49\n",
    "bat_team_input = 'Australia'\n",
    "bowl_team_input = 'India'\n",
    "\n",
    "win_percentage_svc = predict_win_probability_svc(runs_input, wickets_input, overs_input, bat_team_input, bowl_team_input)\n",
    "print(f'Predicted Win Percentage (SVC): {win_percentage_svc * 100:.2f}%')\n",
    "print('Winner-Australia')"
   ]
  },
  {
   "cell_type": "code",
   "execution_count": 27,
   "id": "nPN272S3SRo1",
   "metadata": {
    "colab": {
     "base_uri": "https://localhost:8080/"
    },
    "id": "nPN272S3SRo1",
    "outputId": "96af4378-cc52-4866-b628-db0ea4435769"
   },
   "outputs": [
    {
     "name": "stdout",
     "output_type": "stream",
     "text": [
      "Predicted Win Percentage (SVC): 57.22%\n",
      "Winner-India\n"
     ]
    }
   ],
   "source": [
    "# Test Case 9\n",
    "runs_input = 265\n",
    "wickets_input = 8\n",
    "overs_input = 50\n",
    "bat_team_input = 'Bangladesh'\n",
    "bowl_team_input = 'India'\n",
    "\n",
    "win_percentage_svc = predict_win_probability_svc(runs_input, wickets_input, overs_input, bat_team_input, bowl_team_input)\n",
    "print(f'Predicted Win Percentage (SVC): {win_percentage_svc * 100:.2f}%')\n",
    "print('Winner-India')"
   ]
  },
  {
   "cell_type": "code",
   "execution_count": 28,
   "id": "dUZNWSimSTfC",
   "metadata": {
    "colab": {
     "base_uri": "https://localhost:8080/"
    },
    "id": "dUZNWSimSTfC",
    "outputId": "aea40061-da77-44c1-bf79-156bb7bcfbd1"
   },
   "outputs": [
    {
     "name": "stdout",
     "output_type": "stream",
     "text": [
      "Predicted Win Percentage (SVC): 6.27%\n",
      "Winner-Australia\n"
     ]
    }
   ],
   "source": [
    "# Test Case 10\n",
    "runs_input = 117\n",
    "wickets_input = 10\n",
    "overs_input = 26\n",
    "bat_team_input = 'India'\n",
    "bowl_team_input = 'Australia'\n",
    "\n",
    "win_percentage_svc = predict_win_probability_svc(runs_input, wickets_input, overs_input, bat_team_input, bowl_team_input)\n",
    "print(f'Predicted Win Percentage (SVC): {win_percentage_svc * 100:.2f}%')\n",
    "print('Winner-Australia')"
   ]
  },
  {
   "cell_type": "code",
   "execution_count": 29,
   "id": "GL20_19c7gO9",
   "metadata": {
    "id": "GL20_19c7gO9"
   },
   "outputs": [],
   "source": [
    "import pickle\n",
    "filename = \"ml_model.pkl\"\n",
    "pickle.dump(svc_classifier, open(filename, \"wb\"))"
   ]
  },
  {
   "cell_type": "code",
   "execution_count": 30,
   "id": "6e497899",
   "metadata": {},
   "outputs": [
    {
     "data": {
      "text/plain": [
       "['label_encoder.joblib']"
      ]
     },
     "execution_count": 30,
     "metadata": {},
     "output_type": "execute_result"
    }
   ],
   "source": [
    "dump(column_transformer, 'column_transformer.joblib')\n",
    "dump(label_encoder, 'label_encoder.joblib')"
   ]
  },
  {
   "cell_type": "code",
   "execution_count": null,
   "id": "b0c43573",
   "metadata": {},
   "outputs": [],
   "source": []
  }
 ],
 "metadata": {
  "colab": {
   "provenance": []
  },
  "kernelspec": {
   "display_name": "Python 3 (ipykernel)",
   "language": "python",
   "name": "python3"
  },
  "language_info": {
   "codemirror_mode": {
    "name": "ipython",
    "version": 3
   },
   "file_extension": ".py",
   "mimetype": "text/x-python",
   "name": "python",
   "nbconvert_exporter": "python",
   "pygments_lexer": "ipython3",
   "version": "3.11.3"
  }
 },
 "nbformat": 4,
 "nbformat_minor": 5
}
